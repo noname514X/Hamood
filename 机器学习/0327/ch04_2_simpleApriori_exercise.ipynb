{
 "cells": [
  {
   "cell_type": "code",
   "execution_count": 21,
   "metadata": {},
   "outputs": [],
   "source": [
    "## 利用测试数据集，构建候选1-项集C1"
   ]
  },
  {
   "cell_type": "code",
   "execution_count": 22,
   "metadata": {},
   "outputs": [],
   "source": [
    "def loadDataSet():\n",
    "    return [['A','C','D'],['B','C','E'],['A','B','C','E'],['B','E']]"
   ]
  },
  {
   "cell_type": "code",
   "execution_count": null,
   "metadata": {},
   "outputs": [],
   "source": [
    "## 构建候选1-项集\n",
    "def createC1(dataSet):\n",
    "    C1 = []\n",
    "    for ________________:    ##填空\n",
    "        for _______________:   ##填空\n",
    "            if [item] not in C1:\n",
    "                C1.append([item]) \n",
    "    C1.sort()\n",
    "    return C1 "
   ]
  },
  {
   "cell_type": "code",
   "execution_count": null,
   "metadata": {},
   "outputs": [
    {
     "data": {
      "text/plain": [
       "[['A'], ['B'], ['C'], ['D'], ['E']]"
      ]
     },
     "execution_count": 24,
     "metadata": {},
     "output_type": "execute_result"
    }
   ],
   "source": [
    "## 填空\n",
    "C1=____________________\n",
    "C1"
   ]
  },
  {
   "cell_type": "code",
   "execution_count": 25,
   "metadata": {},
   "outputs": [],
   "source": [
    "##  任务2.生成满足支持度0.5的频繁1-项集"
   ]
  },
  {
   "cell_type": "code",
   "execution_count": null,
   "metadata": {},
   "outputs": [],
   "source": [
    "# 生成候选项集Ck的频繁项集freqList\n",
    "def scanD(D, Ck, minSupport):\n",
    "    ssCnt = {}  ##扫描事务数据集，统计每个候选项集的计数\n",
    "    for tid in D:\n",
    "        for can in Ck:\n",
    "            can=frozenset(can)\n",
    "            if can.issubset(tid):\n",
    "                if can not in ssCnt:\n",
    "                    ____________  ## 填空\n",
    "                else:\n",
    "                    ____________  ## 填空\n",
    "    numItems = float(len(D))  ##总事务条数\n",
    "    freqList = []\n",
    "    supportData = {}\n",
    "    for key in ssCnt:\n",
    "        support = ____________   ##填空\n",
    "        if ____________:  ##填空，支持度大于阈值的，为频繁项集\n",
    "            freqList.append(list(key))\n",
    "        supportData[key] = support\n",
    "    return freqList, supportData"
   ]
  },
  {
   "cell_type": "code",
   "execution_count": 27,
   "metadata": {},
   "outputs": [],
   "source": [
    "dataSet = loadDataSet()\n",
    "D = list(map(set, dataSet))\n",
    "minSupport = 0.5"
   ]
  },
  {
   "cell_type": "code",
   "execution_count": null,
   "metadata": {},
   "outputs": [],
   "source": [
    "## 生成频繁1项集\n",
    "L1, suppData0 = ____________  ## 填空"
   ]
  },
  {
   "cell_type": "code",
   "execution_count": 29,
   "metadata": {},
   "outputs": [
    {
     "data": {
      "text/plain": [
       "[['A'], ['C'], ['B'], ['E']]"
      ]
     },
     "execution_count": 29,
     "metadata": {},
     "output_type": "execute_result"
    }
   ],
   "source": [
    "L1"
   ]
  },
  {
   "cell_type": "code",
   "execution_count": 30,
   "metadata": {},
   "outputs": [
    {
     "data": {
      "text/plain": [
       "{frozenset({'A'}): 0.5,\n",
       " frozenset({'C'}): 0.75,\n",
       " frozenset({'D'}): 0.25,\n",
       " frozenset({'B'}): 0.75,\n",
       " frozenset({'E'}): 0.75}"
      ]
     },
     "execution_count": 30,
     "metadata": {},
     "output_type": "execute_result"
    }
   ],
   "source": [
    "suppData0"
   ]
  },
  {
   "cell_type": "code",
   "execution_count": null,
   "metadata": {},
   "outputs": [],
   "source": [
    "##产生候选K项集\n",
    "def aprioriGen(Lk, k): \n",
    "    canList = []\n",
    "    lenLk = len(Lk)\n",
    "    for i in range(lenLk):\n",
    "        for j in range(i+1, lenLk):\n",
    "            Lk[i].sort()\n",
    "            Lk[j].sort()\n",
    "            L1 = list(Lk[i])[:k-2]  ## k=2时，L1和L2为空集；k>2时，截取候选项集的前k-2项;\n",
    "            L2 = list(Lk[j])[:k-2]\n",
    "            L1.sort()\n",
    "            L2.sort()\n",
    "            if L1==L2:\n",
    "                canList._______________ ##填空\n",
    "    return canList"
   ]
  },
  {
   "cell_type": "code",
   "execution_count": null,
   "metadata": {},
   "outputs": [],
   "source": [
    "## 产生候选2项集C2\n",
    "k=2\n",
    "C2 = _____________    ##填空"
   ]
  },
  {
   "cell_type": "code",
   "execution_count": 35,
   "metadata": {},
   "outputs": [
    {
     "data": {
      "text/plain": [
       "[['A', 'C'], ['A', 'B'], ['A', 'E'], ['C', 'B'], ['C', 'E'], ['B', 'E']]"
      ]
     },
     "execution_count": 35,
     "metadata": {},
     "output_type": "execute_result"
    }
   ],
   "source": [
    "C2"
   ]
  },
  {
   "cell_type": "code",
   "execution_count": null,
   "metadata": {},
   "outputs": [],
   "source": [
    "## 产生C2的频繁项集L2\n",
    "L2, support2 = ___________________ ##填空"
   ]
  },
  {
   "cell_type": "code",
   "execution_count": 37,
   "metadata": {},
   "outputs": [
    {
     "data": {
      "text/plain": [
       "[['A', 'C'], ['C', 'B'], ['C', 'E'], ['E', 'B']]"
      ]
     },
     "execution_count": 37,
     "metadata": {},
     "output_type": "execute_result"
    }
   ],
   "source": [
    "L2"
   ]
  },
  {
   "cell_type": "code",
   "execution_count": null,
   "metadata": {},
   "outputs": [
    {
     "data": {
      "text/plain": [
       "[['B', 'C', 'E']]"
      ]
     },
     "execution_count": 38,
     "metadata": {},
     "output_type": "execute_result"
    }
   ],
   "source": [
    "## 产生候选3项集C3\n",
    "C3 = __________________   ##填空\n",
    "C3"
   ]
  },
  {
   "cell_type": "code",
   "execution_count": null,
   "metadata": {},
   "outputs": [
    {
     "data": {
      "text/plain": [
       "[['C', 'E', 'B']]"
      ]
     },
     "execution_count": 39,
     "metadata": {},
     "output_type": "execute_result"
    }
   ],
   "source": [
    "## 产生C2的频繁项集L3\n",
    "L3,suppdata3 = _______________ ##填空\n",
    "L3"
   ]
  }
 ],
 "metadata": {
  "kernelspec": {
   "display_name": "myenv",
   "language": "python",
   "name": "python3"
  },
  "language_info": {
   "codemirror_mode": {
    "name": "ipython",
    "version": 3
   },
   "file_extension": ".py",
   "mimetype": "text/x-python",
   "name": "python",
   "nbconvert_exporter": "python",
   "pygments_lexer": "ipython3",
   "version": "3.12.4"
  }
 },
 "nbformat": 4,
 "nbformat_minor": 2
}
