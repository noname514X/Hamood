{
 "cells": [
  {
   "cell_type": "code",
   "execution_count": 1,
   "id": "f07b7373",
   "metadata": {},
   "outputs": [],
   "source": [
    "import pandas as pd\n",
    "from sklearn.tree import DecisionTreeClassifier, plot_tree\n",
    "from sklearn.model_selection import train_test_split\n",
    "from sklearn.metrics import accuracy_score\n",
    "import matplotlib.pyplot as plt\n",
    "\n",
    "# 1. 读取数据\n",
    "df = pd.read_csv(r'winequality-white.csv',sep=';')\n",
    "\n",
    "# 2. 添加质量标签列\n",
    "def quality_to_label(q):\n",
    "    if q <= 5:\n",
    "        return 'low'\n",
    "    elif q <= 7:\n",
    "        return 'medium'\n",
    "    else:\n",
    "        return 'high'\n",
    "\n",
    "df['quality_label'] = df['quality'].apply(quality_to_label)\n",
    "\n",
    "# 3. 原始特征与标签\n",
    "X = df.drop(['quality', 'quality_label'], axis=1)\n",
    "y = df['quality_label']\n",
    "\n",
    "# 4. 拆分数据\n",
    "X_train, X_test, y_train, y_test = train_test_split(\n",
    "    X, y, test_size=0.3, random_state=42\n",
    ")"
   ]
  },
  {
   "cell_type": "code",
   "execution_count": 2,
   "id": "06a650e5",
   "metadata": {},
   "outputs": [
    {
     "name": "stdout",
     "output_type": "stream",
     "text": [
      "Bagging Model Accuracy: 0.78\n"
     ]
    }
   ],
   "source": [
    "## 2.创建Bagging集成模型，对白葡萄酒质量进行分类\n",
    "from sklearn.ensemble import BaggingClassifier\n",
    "from sklearn.tree import DecisionTreeClassifier\n",
    "# 5. 创建Bagging集成模型\n",
    "bagging_model = BaggingClassifier(\n",
    "    estimator=DecisionTreeClassifier(max_depth=10),\n",
    "    n_estimators=100,\n",
    "    max_samples=0.8,\n",
    "    max_features=0.8,\n",
    "    random_state=42,\n",
    "    n_jobs=-1\n",
    ")\n",
    "# 6. 训练模型\n",
    "bagging_model.fit(X_train, y_train)\n",
    "# 7. 预测\n",
    "y_pred = bagging_model.predict(X_test)\n",
    "# 8. 评估模型\n",
    "accuracy = accuracy_score(y_test, y_pred)\n",
    "print(f\"Bagging Model Accuracy: {accuracy:.2f}\")"
   ]
  },
  {
   "cell_type": "code",
   "execution_count": 3,
   "id": "bedb6075",
   "metadata": {},
   "outputs": [
    {
     "name": "stdout",
     "output_type": "stream",
     "text": [
      "Random Forest Model Accuracy: 0.78\n"
     ]
    }
   ],
   "source": [
    "## 创建随机森林模型，对白葡萄酒质量进行分类\n",
    "from sklearn.ensemble import RandomForestClassifier\n",
    "# 9. 创建随机森林模型\n",
    "rf_model = RandomForestClassifier(\n",
    "    n_estimators=100,\n",
    "    max_depth=10,\n",
    "    max_features=0.8,\n",
    "    random_state=42,\n",
    "    n_jobs=-1\n",
    ")\n",
    "# 10. 训练模型\n",
    "rf_model.fit(X_train, y_train)\n",
    "# 11. 预测\n",
    "y_pred_rf = rf_model.predict(X_test)\n",
    "# 12. 评估模型\n",
    "accuracy_rf = accuracy_score(y_test, y_pred_rf)\n",
    "print(f\"Random Forest Model Accuracy: {accuracy_rf:.2f}\")"
   ]
  }
 ],
 "metadata": {
  "kernelspec": {
   "display_name": "MCM_2025",
   "language": "python",
   "name": "python3"
  },
  "language_info": {
   "codemirror_mode": {
    "name": "ipython",
    "version": 3
   },
   "file_extension": ".py",
   "mimetype": "text/x-python",
   "name": "python",
   "nbconvert_exporter": "python",
   "pygments_lexer": "ipython3",
   "version": "3.12.8"
  }
 },
 "nbformat": 4,
 "nbformat_minor": 5
}
