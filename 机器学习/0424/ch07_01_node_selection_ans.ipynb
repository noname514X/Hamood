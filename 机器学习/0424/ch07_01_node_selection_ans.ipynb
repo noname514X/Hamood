{
 "cells": [
  {
   "cell_type": "code",
   "execution_count": 3,
   "id": "c534f65a",
   "metadata": {},
   "outputs": [],
   "source": [
    "import numpy as np\n",
    "import pandas as pd\n",
    "from collections import Counter\n",
    "from math import log2\n",
    "\n",
    "# 数据集\n",
    "data = pd.DataFrame({\n",
    "\n",
    "    '收入': ['高', '中', '低', '高', '中'],\n",
    "    '是否已婚': ['是', '否', '是', '是', '否'],\n",
    "    '是否购买': [1, 0, 1, 0, 1]\n",
    "})"
   ]
  },
  {
   "cell_type": "code",
   "execution_count": 4,
   "id": "874c0452",
   "metadata": {},
   "outputs": [],
   "source": [
    "# 计算信息熵\n",
    "def entropy(data, target):\n",
    "    # 计算总样本数\n",
    "    total = len(data)\n",
    "    # 计算每个类别的样本数\n",
    "    counts = Counter(data[target])\n",
    "    # 计算信息熵\n",
    "    ent = 0\n",
    "    for count in counts.values():\n",
    "        p = count / total\n",
    "        ent -= p * log2(p)\n",
    "    return ent"
   ]
  },
  {
   "cell_type": "code",
   "execution_count": 5,
   "id": "85bb676d",
   "metadata": {},
   "outputs": [],
   "source": [
    "# 计算信息增益  \n",
    "def information_gain(data, feature, target):\n",
    "    # 计算总信息熵\n",
    "    total_entropy = entropy(data, target)\n",
    "    # 计算每个特征值的信息熵\n",
    "    feature_values = data[feature].unique()\n",
    "    weighted_entropy = 0\n",
    "    for value in feature_values:\n",
    "        subset = data[data[feature] == value]\n",
    "        p = len(subset) / len(data)\n",
    "        weighted_entropy += p * entropy(subset, target)\n",
    "    # 计算信息增益\n",
    "    return total_entropy - weighted_entropy"
   ]
  },
  {
   "cell_type": "code",
   "execution_count": 6,
   "id": "233e01cf",
   "metadata": {},
   "outputs": [],
   "source": [
    "# 计算基尼指数\n",
    "def gini_index(data, target):\n",
    "    # 计算总样本数\n",
    "    total = len(data)\n",
    "    # 计算每个类别的样本数\n",
    "    counts = Counter(data[target])\n",
    "    # 计算基尼指数\n",
    "    gini = 1 - sum((count / total) ** 2 for count in counts.values())\n",
    "    return gini\n"
   ]
  },
  {
   "cell_type": "code",
   "execution_count": 7,
   "id": "a6cbfcd2",
   "metadata": {},
   "outputs": [],
   "source": [
    "# 计算基尼增益\n",
    "def gini_gain(data, feature, target):\n",
    "    # 计算总基尼指数\n",
    "    total_gini = gini_index(data, target)\n",
    "    # 计算每个特征值的基尼指数\n",
    "    feature_values = data[feature].unique()\n",
    "    weighted_gini = 0\n",
    "    for value in feature_values:\n",
    "        subset = data[data[feature] == value]\n",
    "        p = len(subset) / len(data)\n",
    "        weighted_gini += p * gini_index(subset, target)\n",
    "    # 计算基尼增益\n",
    "    return total_gini - weighted_gini"
   ]
  },
  {
   "cell_type": "code",
   "execution_count": 8,
   "id": "8e08f622",
   "metadata": {},
   "outputs": [],
   "source": [
    "# 计算信息增益率\n",
    "def information_gain_ratio(data, feature, target):\n",
    "    # 计算信息增益\n",
    "    gain = information_gain(data, feature, target)\n",
    "    # 计算特征的信息熵\n",
    "    feature_entropy = entropy(data, feature)\n",
    "    # 计算信息增益率\n",
    "    if feature_entropy == 0:\n",
    "        return 0\n",
    "    return gain / feature_entropy"
   ]
  },
  {
   "cell_type": "code",
   "execution_count": 9,
   "id": "a3a28e08",
   "metadata": {},
   "outputs": [],
   "source": [
    "# 特征选择\n",
    "features = [ '收入', '是否已婚']\n",
    "target = '是否购买'"
   ]
  },
  {
   "cell_type": "code",
   "execution_count": 10,
   "id": "170a491e",
   "metadata": {},
   "outputs": [
    {
     "name": "stdout",
     "output_type": "stream",
     "text": [
      "特征选择结果：\n",
      "          信息增益      基尼增益     信息增益率\n",
      "收入    0.170951  0.080000  0.112325\n",
      "是否已婚  0.019973  0.013333  0.020571\n",
      "最佳特征: 收入\n"
     ]
    }
   ],
   "source": [
    "# 计算每个特征的指标\n",
    "results = {}\n",
    "for feature in features:\n",
    "    results[feature] = {\n",
    "        '信息增益': information_gain(data, feature, target),\n",
    "        '基尼增益': gini_gain(data, feature, target),\n",
    "        '信息增益率': information_gain_ratio(data, feature, target)\n",
    "    }\n",
    "# 输出结果\n",
    "results_df = pd.DataFrame(results).T\n",
    "results_df.columns = ['信息增益', '基尼增益', '信息增益率']\n",
    "results_df = results_df.sort_values(by='信息增益', ascending=False)\n",
    "print(\"特征选择结果：\")\n",
    "print(results_df)\n",
    "# 选择最佳特征\n",
    "best_feature = results_df.index[0]\n",
    "print(f\"最佳特征: {best_feature}\")"
   ]
  },
  {
   "cell_type": "code",
   "execution_count": null,
   "id": "510d4209",
   "metadata": {},
   "outputs": [],
   "source": [
    "# 计算决策树深度\n",
    "def calculate_tree_depth(data, target):\n",
    "    # 计算树的深度\n",
    "    if len(data[target].unique()) == 1:\n",
    "        return 0\n",
    "    if len(data) == 0:\n",
    "        return 0\n",
    "    depths = []\n",
    "    for feature in data.columns[:-1]:\n",
    "        feature_values = data[feature].unique()\n",
    "        for value in feature_values:\n",
    "            subset = data[data[feature] == value]\n",
    "            depths.append(calculate_tree_depth(subset, target))\n",
    "    return max(depths) + 1"
   ]
  }
 ],
 "metadata": {
  "kernelspec": {
   "display_name": "myenv",
   "language": "python",
   "name": "python3"
  },
  "language_info": {
   "codemirror_mode": {
    "name": "ipython",
    "version": 3
   },
   "file_extension": ".py",
   "mimetype": "text/x-python",
   "name": "python",
   "nbconvert_exporter": "python",
   "pygments_lexer": "ipython3",
   "version": "3.10.16"
  }
 },
 "nbformat": 4,
 "nbformat_minor": 5
}
