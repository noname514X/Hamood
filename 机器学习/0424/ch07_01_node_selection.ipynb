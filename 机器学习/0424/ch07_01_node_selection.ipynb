{
 "cells": [
  {
   "cell_type": "code",
   "execution_count": null,
   "id": "148d6a4e",
   "metadata": {},
   "outputs": [],
   "source": [
    "import numpy as np\n",
    "import pandas as pd\n",
    "from collections import Counter\n",
    "from math import log2\n",
    "\n",
    "# 数据集\n",
    "data = pd.DataFrame({\n",
    "\n",
    "    '收入': ['高', '中', '低', '高', '中'],\n",
    "    '是否已婚': ['是', '否', '是', '是', '否'],\n",
    "    '是否购买': [1, 0, 1, 0, 1]\n",
    "})\n",
    "\n",
    "## 1. 计算信息熵 (Entropy)\n",
    "def entropy(data, target):\n",
    "\n",
    "\n",
    "## 2. 计算信息增益 (Information Gain)\n",
    "def information_gain(data, feature, target):\n",
    "\n",
    "\n",
    "\n",
    "## 3. # 计算基尼指数 (Gini Index)\n",
    "def gini_index(data, target):\n",
    "    \n",
    "    \n",
    "## 4.计算基尼增益 (Gini Gain)\n",
    "def gini_gain(data, feature, target):\n",
    "\n",
    "\n",
    "## 5. # 计算信息增益率 (Information Gain Ratio)\n",
    "def information_gain_ratio(data, feature, target):\n",
    "\n"
   ]
  },
  {
   "cell_type": "code",
   "execution_count": null,
   "id": "228f9f4d",
   "metadata": {},
   "outputs": [],
   "source": [
    "# 特征选择\n",
    "features = [ '收入', '是否已婚']\n",
    "target = '是否购买'"
   ]
  },
  {
   "cell_type": "code",
   "execution_count": null,
   "id": "a835e16b",
   "metadata": {},
   "outputs": [],
   "source": [
    "# 计算每个特征的指标\n",
    "results = {}\n",
    "for feature in features:\n",
    "    results[feature] = {\n",
    "        '信息增益': information_gain(data, feature, target),\n",
    "        '基尼增益': gini_gain(data, feature, target),\n",
    "        '信息增益率': information_gain_ratio(data, feature, target)\n",
    "    }\n",
    "# 输出结果\n",
    "results_df = pd.DataFrame(results).T\n",
    "results_df.columns = ['信息增益', '基尼增益', '信息增益率']\n",
    "results_df = results_df.sort_values(by='信息增益', ascending=False)\n",
    "print(\"特征选择结果：\")\n",
    "print(results_df)\n",
    "# 选择最佳特征\n",
    "best_feature = results_df.index[0]\n",
    "print(f\"最佳特征: {best_feature}\")"
   ]
  }
 ],
 "metadata": {
  "kernelspec": {
   "display_name": "myenv",
   "language": "python",
   "name": "python3"
  },
  "language_info": {
   "codemirror_mode": {
    "name": "ipython",
    "version": 3
   },
   "file_extension": ".py",
   "mimetype": "text/x-python",
   "name": "python",
   "nbconvert_exporter": "python",
   "pygments_lexer": "ipython3",
   "version": "3.10.16"
  }
 },
 "nbformat": 4,
 "nbformat_minor": 5
}
