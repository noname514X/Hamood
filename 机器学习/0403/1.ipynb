{
 "cells": [
  {
   "cell_type": "code",
   "execution_count": 1,
   "metadata": {},
   "outputs": [],
   "source": [
    "import pandas as pd\n",
    "from mlxtend.frequent_patterns import fpgrowth\n",
    "from mlxtend.preprocessing import TransactionEncoder"
   ]
  },
  {
   "cell_type": "code",
   "execution_count": 2,
   "metadata": {},
   "outputs": [],
   "source": [
    "item_list = [['牛奶','面包'],\n",
    "['面包','尿布','啤酒','土豆'],\n",
    "['牛奶','尿布','啤酒','可乐'],\n",
    "['面包','牛奶','尿布','啤酒'],\n",
    "['面包','牛奶','尿布','可乐']]"
   ]
  },
  {
   "cell_type": "code",
   "execution_count": 3,
   "metadata": {},
   "outputs": [],
   "source": [
    "te = TransactionEncoder()\n",
    "te_ary = te.fit(item_list).transform(item_list)\n",
    "df = pd.DataFrame(te_ary, columns=te.columns_)"
   ]
  },
  {
   "cell_type": "code",
   "execution_count": 4,
   "metadata": {},
   "outputs": [
    {
     "name": "stdout",
     "output_type": "stream",
     "text": [
      "   support  itemsets\n",
      "0      0.8      (面包)\n",
      "1      0.8      (牛奶)\n",
      "2      0.8      (尿布)\n",
      "3      0.6      (啤酒)\n",
      "4      0.6  (牛奶, 面包)\n",
      "5      0.6  (尿布, 面包)\n",
      "6      0.6  (尿布, 牛奶)\n",
      "7      0.6  (尿布, 啤酒)\n"
     ]
    }
   ],
   "source": [
    "frequent_itemsets = fpgrowth(df, min_support=0.5, use_colnames=True)\n",
    "print(frequent_itemsets)"
   ]
  }
 ],
 "metadata": {
  "kernelspec": {
   "display_name": "MCM_2025",
   "language": "python",
   "name": "python3"
  },
  "language_info": {
   "codemirror_mode": {
    "name": "ipython",
    "version": 3
   },
   "file_extension": ".py",
   "mimetype": "text/x-python",
   "name": "python",
   "nbconvert_exporter": "python",
   "pygments_lexer": "ipython3",
   "version": "3.12.8"
  }
 },
 "nbformat": 4,
 "nbformat_minor": 2
}
