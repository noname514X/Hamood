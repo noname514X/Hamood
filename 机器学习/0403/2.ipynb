{
 "cells": [
  {
   "cell_type": "code",
   "execution_count": 1,
   "metadata": {},
   "outputs": [
    {
     "name": "stdout",
     "output_type": "stream",
     "text": [
      "Frequent itemsets:\n",
      "1-itemsets: [('C',), ('E',), ('D',), ('B',), ('A',)]\n"
     ]
    }
   ],
   "source": [
    "import pandas as pd\n",
    "\n",
    "# Create the transaction data\n",
    "transactions = {\n",
    "    'T1': ['A', 'B', 'D', 'E'],\n",
    "    'T2': ['B', 'C', 'D'],\n",
    "    'T3': ['A', 'B', 'C', 'E'],\n",
    "    'T4': ['A', 'C', 'D', 'E'],\n",
    "    'T5': ['A', 'B', 'C', 'D']\n",
    "}\n",
    "\n",
    "# Convert to vertical format\n",
    "items = set([item for items in transactions.values() for item in items])\n",
    "tid_sets = {item: set(tid for tid, items in transactions.items() if item in items) \n",
    "           for item in items}\n",
    "\n",
    "# Function to calculate support\n",
    "def get_support(tid_set):\n",
    "    return len(tid_set)\n",
    "\n",
    "# Set minimum support\n",
    "min_sup = 3\n",
    "\n",
    "# Find frequent itemsets\n",
    "frequent_itemsets = {\n",
    "    '1-itemsets': [(item,) for item, tid_set in tid_sets.items() \n",
    "                   if get_support(tid_set) >= min_sup]\n",
    "}\n",
    "\n",
    "print(\"Frequent itemsets:\")\n",
    "for k, v in frequent_itemsets.items():\n",
    "    print(f\"{k}: {v}\")"
   ]
  },
  {
   "cell_type": "code",
   "execution_count": 2,
   "metadata": {},
   "outputs": [
    {
     "name": "stdout",
     "output_type": "stream",
     "text": [
      "hamood\n"
     ]
    }
   ],
   "source": [
    "print(\"hamood\")"
   ]
  },
  {
   "cell_type": "code",
   "execution_count": null,
   "metadata": {},
   "outputs": [],
   "source": []
  }
 ],
 "metadata": {
  "kernelspec": {
   "display_name": "MCM_2025",
   "language": "python",
   "name": "python3"
  },
  "language_info": {
   "codemirror_mode": {
    "name": "ipython",
    "version": 3
   },
   "file_extension": ".py",
   "mimetype": "text/x-python",
   "name": "python",
   "nbconvert_exporter": "python",
   "pygments_lexer": "ipython3",
   "version": "3.12.8"
  }
 },
 "nbformat": 4,
 "nbformat_minor": 2
}
