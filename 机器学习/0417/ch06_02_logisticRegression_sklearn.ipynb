{
 "cells": [
  {
   "cell_type": "code",
   "execution_count": null,
   "id": "3acf665f",
   "metadata": {},
   "outputs": [
    {
     "name": "stdout",
     "output_type": "stream",
     "text": [
      "OvR 准确率: 0.7153\n",
      "Multinomial 准确率: 0.7122\n"
     ]
    },
    {
     "name": "stderr",
     "output_type": "stream",
     "text": [
      "d:\\Users\\nancy\\anaconda3\\envs\\myenv\\lib\\site-packages\\sklearn\\linear_model\\_logistic.py:1256: FutureWarning: 'multi_class' was deprecated in version 1.5 and will be removed in 1.7. Use OneVsRestClassifier(LogisticRegression(..)) instead. Leave it to its default value to avoid this warning.\n",
      "  warnings.warn(\n",
      "d:\\Users\\nancy\\anaconda3\\envs\\myenv\\lib\\site-packages\\sklearn\\linear_model\\_logistic.py:1247: FutureWarning: 'multi_class' was deprecated in version 1.5 and will be removed in 1.7. From then on, it will always use 'multinomial'. Leave it to its default value to avoid this warning.\n",
      "  warnings.warn(\n"
     ]
    }
   ],
   "source": [
    "import pandas as pd\n",
    "from sklearn.linear_model import LogisticRegression\n",
    "from sklearn.model_selection import train_test_split\n",
    "from sklearn.preprocessing import LabelEncoder, StandardScaler\n",
    "from sklearn.metrics import accuracy_score\n",
    "\n",
    "# 读取数据\n",
    "white_wine = pd.read_csv(\"d:\\data\\winequality-white.csv\", sep=\";\")\n",
    "\n",
    "# 创建质量标签\n",
    "def quality_to_label(q):\n",
    "    if q <= 5:\n",
    "        return 'low'\n",
    "    elif q <= 7:\n",
    "        return 'medium'\n",
    "    else:\n",
    "        return 'high'\n",
    "    \n",
    "## 填空，构建质量标签\n",
    "white_wine['quality_label'] = __________ \n",
    "\n",
    "# 特征与目标\n",
    "X = white_wine.drop(['quality', 'quality_label'], axis=1)\n",
    "y = white_wine['quality_label']\n",
    "\n",
    "# 标签编码\n",
    "le = LabelEncoder()\n",
    "y_encoded = le.fit_transform(y)\n",
    "\n",
    "# 特征标准化\n",
    "scaler = StandardScaler()\n",
    "X_scaled = scaler._________  ## 填空，标准化特征\n",
    "\n",
    "# 划分训练集与测试集\n",
    "X_train, X_test, y_train, y_test = train_test_split(\n",
    "    X_scaled, y_encoded, test_size=0.2, random_state=42, stratify=y_encoded\n",
    ")\n",
    "\n",
    "# OvR 模式逻辑回归\n",
    "## 填空，使用 OvR 模式\n",
    "lr_ovr = LogisticRegression(multi_class=____, solver='lbfgs', max_iter=1000)\n",
    "lr_ovr._________  ## 填空，训练模型\n",
    "y_pred_ovr = lr_ovr.predict(X_test)\n",
    "## 填空，预测测试集，计算准确率\n",
    "acc_ovr = _________________ \n",
    "# Multinomial 模式逻辑回归\n",
    "## 填空，使用 Multinomial 模式\n",
    "lr_multi = LogisticRegression(multi_class=________, solver='lbfgs', max_iter=1000)\n",
    "lr_multi._________  ## 填空，训练模型\n",
    "y_pred_multi = lr_multi.predict(X_test)\n",
    "acc_multi = accuracy_score(y_test, y_pred_multi)\n",
    "\n",
    "# 打印准确率\n",
    "print(f\"OvR 准确率: {acc_ovr:.4f}\")\n",
    "print(f\"Multinomial 准确率: {acc_multi:.4f}\")\n"
   ]
  },
  {
   "cell_type": "code",
   "execution_count": null,
   "id": "23c15747",
   "metadata": {},
   "outputs": [],
   "source": []
  }
 ],
 "metadata": {
  "kernelspec": {
   "display_name": "myenv",
   "language": "python",
   "name": "python3"
  },
  "language_info": {
   "codemirror_mode": {
    "name": "ipython",
    "version": 3
   },
   "file_extension": ".py",
   "mimetype": "text/x-python",
   "name": "python",
   "nbconvert_exporter": "python",
   "pygments_lexer": "ipython3",
   "version": "3.10.16"
  }
 },
 "nbformat": 4,
 "nbformat_minor": 5
}
