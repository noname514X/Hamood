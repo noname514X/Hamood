{
 "cells": [
  {
   "cell_type": "code",
   "execution_count": 4,
   "metadata": {},
   "outputs": [
    {
     "name": "stdout",
     "output_type": "stream",
     "text": [
      "原始数据:\n",
      " [[1394.89 2505.    519.01 8144.    373.9   117.3   112.6   843.43]\n",
      " [ 920.11 2720.    345.46 6501.    342.8   115.2   110.6   582.51]\n",
      " [2849.52 1258.    704.87 4839.   2033.3   115.2   115.8  1234.85]\n",
      " [1092.48 1250.    290.9  4721.    717.3   116.9   115.6   697.25]\n",
      " [ 832.88 1387.    250.23 4134.    781.7   117.5   116.8   419.39]\n",
      " [2793.37 2397.    387.99 4911.   1371.1   116.1   114.   1840.55]\n",
      " [1129.2  1872.    320.45 4430.    497.4   115.2   114.2   762.47]\n",
      " [2014.53 2334.    435.73 4145.    824.8   116.1   114.3  1240.37]\n",
      " [2462.57 5343.    996.48 9279.    207.4   118.7   113.   1642.95]\n",
      " [5155.25 1926.   1434.95 5934.   1025.5   115.8   114.3  2026.64]\n",
      " [3524.79 2249.   1006.39 6619.    754.4   116.6   113.5   916.59]\n",
      " [2003.58 1254.    474.   4609.    908.3   114.8   112.7   824.14]\n",
      " [2160.52 2320.    553.97 5857.    609.3   115.2   114.4   433.67]\n",
      " [1205.1  1182.    282.84 4211.    411.7   116.9   115.9   571.84]\n",
      " [5002.34 1527.   1229.55 5145.   1196.6   117.6   114.2  2207.69]\n",
      " [3002.74 1034.    670.35 4344.   1574.4   116.5   114.9  1367.92]\n",
      " [2391.42 1527.    571.68 4685.    849.    120.    116.6  1220.72]\n",
      " [2195.7  1408.    422.61 4797.   1011.8   119.    115.5   843.83]\n",
      " [5381.72 2699.   1639.83 8250.    656.5   114.    111.6  1396.35]\n",
      " [1606.15 1314.    382.59 5150.    556.    118.4   116.4   554.97]\n",
      " [ 364.17 1814.    198.35 5340.    232.1   113.5   111.3    64.33]\n",
      " [3534.   1261.    822.54 4645.    902.3   118.5   117.   1431.81]\n",
      " [ 630.07  942.    150.84 4475.    301.1   121.4   117.2   324.72]\n",
      " [1206.68 1261.    334.   5149.    310.4   121.3   118.1   716.65]\n",
      " [  55.98 1110.     17.87 7382.      4.2   117.3   114.9     5.57]\n",
      " [1000.03 1208.    300.27 4396.    500.9   119.    117.    600.98]\n",
      " [ 553.35 1007.    114.81 5493.    507.    119.8   116.5   468.79]\n",
      " [ 165.31 1445.     47.76 5753.     61.6   118.    116.3   105.8 ]\n",
      " [ 169.75 1355.     61.98 5079.    121.8   117.1   115.3   114.4 ]\n",
      " [ 834.57 1469.    376.95 5348.    339.    119.7   116.7   428.76]]\n"
     ]
    }
   ],
   "source": [
    "import pandas as pd\n",
    "import numpy as np\n",
    "import matplotlib.pyplot as plt\n",
    "data= pd.read_excel('/Users/ncc1031a/Documents/VSCode/MachineLearning/0320/ecodata.xlsx')\n",
    "data=data.values        #转化为数组\n",
    "area=data[:,:1]\n",
    "data=data[:,1:]         #舍弃第一列\n",
    "dataMat=data\n",
    "data = np.array(data, dtype='float64')\n",
    "np.set_printoptions(suppress=True,precision=2)\n",
    "print('原始数据:\\n',data)"
   ]
  },
  {
   "cell_type": "code",
   "execution_count": 8,
   "metadata": {},
   "outputs": [
    {
     "name": "stdout",
     "output_type": "stream",
     "text": [
      "协方差矩阵:\n",
      " [[ 1.14  1.01  1.13  0.92  0.99 -1.13 -1.08  1.14]\n",
      " [ 1.01  1.14  1.06  1.13  0.6  -1.09 -1.13  0.99]\n",
      " [ 1.13  1.06  1.14  0.99  0.92 -1.14 -1.12  1.13]\n",
      " [ 0.92  1.13  0.99  1.14  0.45 -1.02 -1.09  0.89]\n",
      " [ 0.99  0.6   0.92  0.45  1.14 -0.88 -0.75  1.01]\n",
      " [-1.13 -1.09 -1.14 -1.02 -0.88  1.14  1.13 -1.12]\n",
      " [-1.08 -1.13 -1.12 -1.09 -0.75  1.13  1.14 -1.07]\n",
      " [ 1.14  0.99  1.13  0.89  1.01 -1.12 -1.07  1.14]]\n"
     ]
    }
   ],
   "source": [
    "##填空\n",
    "temp = np.std(data, axis=0)\n",
    "##填空\n",
    "data -= np.mean(data, axis=0)\n",
    "data /= temp\n",
    "normData=data\n",
    "##填空\n",
    "data = np.cov(data.T)\n",
    "print('协方差矩阵:\\n',data)"
   ]
  },
  {
   "cell_type": "code",
   "execution_count": 22,
   "metadata": {},
   "outputs": [
    {
     "data": {
      "text/plain": [
       "array([[-1.92, -0.48, -0.  ],\n",
       "       [-1.54,  1.14,  0.  ],\n",
       "       [-2.04, -0.1 , -0.  ],\n",
       "       [-1.1 ,  1.49,  0.  ],\n",
       "       [-0.72, -1.48,  0.  ],\n",
       "       [ 4.66,  0.29, -0.  ],\n",
       "       [ 4.51, -0.27,  0.  ],\n",
       "       [-1.86, -0.59, -0.  ]])"
      ]
     },
     "execution_count": 22,
     "metadata": {},
     "output_type": "execute_result"
    }
   ],
   "source": [
    "##填空\n",
    "eigValue,eigVec = np.linalg.eigh(data)\n",
    "##填空\n",
    "idx = np.argsort(eigValue)[::-1]\n",
    "selectVec = eigVec[:,idx]\n",
    "selectValue = eigValue[idx]\n",
    "components = selectVec[:,:3]\n",
    "X_reduced = np.dot(normData,components)\n",
    "X_reduced"
   ]
  },
  {
   "cell_type": "code",
   "execution_count": 23,
   "metadata": {},
   "outputs": [
    {
     "data": {
      "text/plain": [
       "array([[-0.37, -0.18, -0.46],\n",
       "       [-0.35,  0.36,  0.3 ],\n",
       "       [-0.37, -0.05, -0.47],\n",
       "       [-0.33,  0.51, -0.13],\n",
       "       [-0.29, -0.7 ,  0.37],\n",
       "       [ 0.37, -0.01, -0.43],\n",
       "       [ 0.37, -0.19, -0.28],\n",
       "       [-0.37, -0.22, -0.24]])"
      ]
     },
     "execution_count": 23,
     "metadata": {},
     "output_type": "execute_result"
    }
   ],
   "source": [
    "components"
   ]
  },
  {
   "cell_type": "code",
   "execution_count": 24,
   "metadata": {},
   "outputs": [],
   "source": [
    "contri = selectValue/np.sum(selectValue)\n",
    "cumcontri = np.cumsum(contri)"
   ]
  },
  {
   "cell_type": "code",
   "execution_count": 25,
   "metadata": {},
   "outputs": [
    {
     "data": {
      "text/plain": [
       "array([0.9, 1. , 1. , 1. , 1. , 1. , 1. , 1. ])"
      ]
     },
     "execution_count": 25,
     "metadata": {},
     "output_type": "execute_result"
    }
   ],
   "source": [
    "np.cumsum(contri)"
   ]
  },
  {
   "cell_type": "markdown",
   "metadata": {},
   "source": [
    "## 使用sklearn对normData实现PCA降维\n",
    "from sklearn.decomposition import PCA\n",
    "pcs = PCA()\n",
    "## 填空，拟合\n",
    "pcs.________\n",
    "  "
   ]
  },
  {
   "cell_type": "code",
   "execution_count": 26,
   "metadata": {},
   "outputs": [
    {
     "name": "stdout",
     "output_type": "stream",
     "text": [
      "特征值:\n",
      " [ 8.22  0.93  0.    0.    0.    0.   -0.   -0.  ]\n",
      "\n",
      "解释方差比例:\n",
      " [ 0.9  0.1  0.   0.   0.   0.  -0.  -0. ]\n",
      "\n",
      "累积解释方差比例:\n",
      " [0.9 1.  1.  1.  1.  1.  1.  1. ]\n",
      "\n",
      "特征向量(主成分):\n",
      " [[-0.37 -0.18 -0.46 -0.12  0.19 -0.13  0.18  0.72]\n",
      " [-0.35  0.36  0.3   0.61  0.24 -0.27 -0.35  0.18]\n",
      " [-0.37 -0.05 -0.47 -0.17  0.28 -0.33 -0.25 -0.6 ]\n",
      " [-0.33  0.51 -0.13 -0.32 -0.6   0.2  -0.32  0.09]\n",
      " [-0.29 -0.7   0.37 -0.07 -0.37 -0.21 -0.31  0.04]\n",
      " [ 0.37 -0.01 -0.43  0.42 -0.51 -0.49  0.01  0.02]\n",
      " [ 0.37 -0.19 -0.28  0.08  0.2   0.38 -0.73  0.17]\n",
      " [-0.37 -0.22 -0.24  0.55 -0.18  0.58  0.23 -0.21]]\n"
     ]
    }
   ],
   "source": [
    "##填空，显示所有主成分\n",
    "total_var = np.sum(selectValue)\n",
    "var_ratio = selectValue / total_var\n",
    "cum_var_ratio = np.cumsum(var_ratio)\n",
    "\n",
    "print(\"特征值:\\n\", selectValue)\n",
    "print(\"\\n解释方差比例:\\n\", var_ratio)\n",
    "print(\"\\n累积解释方差比例:\\n\", cum_var_ratio)\n",
    "print(\"\\n特征向量(主成分):\\n\", selectVec)"
   ]
  },
  {
   "cell_type": "code",
   "execution_count": null,
   "metadata": {},
   "outputs": [],
   "source": [
    "##填空，显示主成分方差值占比\n",
    "_____________"
   ]
  },
  {
   "cell_type": "code",
   "execution_count": null,
   "metadata": {},
   "outputs": [],
   "source": [
    "## 填空，显示累计主成分方差值占比\n"
   ]
  },
  {
   "cell_type": "code",
   "execution_count": 29,
   "metadata": {},
   "outputs": [
    {
     "name": "stdout",
     "output_type": "stream",
     "text": [
      "U [[-0.41  0.71  0.58]\n",
      " [-0.82  0.   -0.58]\n",
      " [-0.41 -0.71  0.58]]\n",
      "Sigma [1.73 1.  ]\n",
      "VT [[-0.71 -0.71]\n",
      " [-0.71  0.71]]\n"
     ]
    }
   ],
   "source": [
    "import numpy as np\n",
    "\n",
    "A = np.array([[0,1],[1,1],[1,0]])\n",
    "U,Sigma,VT = np.linalg.svd(A,full_matrices=True)\n",
    "print('U',U)\n",
    "print('Sigma',Sigma)\n",
    "print('VT',VT)"
   ]
  },
  {
   "cell_type": "code",
   "execution_count": 31,
   "metadata": {},
   "outputs": [
    {
     "data": {
      "text/plain": [
       "array([[ 0.,  1.],\n",
       "       [ 1.,  1.],\n",
       "       [ 1., -0.]])"
      ]
     },
     "execution_count": 31,
     "metadata": {},
     "output_type": "execute_result"
    }
   ],
   "source": [
    "np.dot(U[:,:2]*Sigma,VT)"
   ]
  },
  {
   "cell_type": "code",
   "execution_count": 32,
   "metadata": {},
   "outputs": [],
   "source": [
    "import numpy as np\n",
    "dd = np.array([[0,0,1,1,0,0,0,0,0],\n",
    "               [0,0,0,0,0,1,0,0,1],\n",
    "               [0,1,0,0,0,0,0,1,0],\n",
    "               [0,0,0,0,0,0,1,0,1],\n",
    "               [1,0,0,0,0,1,0,0,0],\n",
    "               [1,1,1,1,1,1,1,1,1],\n",
    "               [1,0,1,0,0,0,0,0,0],\n",
    "               [0,0,0,0,0,0,1,0,1],\n",
    "               [0,0,0,0,0,2,0,0,1],\n",
    "               [1,0,1,0,0,0,0,1,0],\n",
    "               [0,0,0,1,1,0,0,0,0]])"
   ]
  },
  {
   "cell_type": "code",
   "execution_count": 33,
   "metadata": {},
   "outputs": [],
   "source": [
    "U,sigma,  VT = np.linalg.svd(dd)"
   ]
  },
  {
   "cell_type": "code",
   "execution_count": 34,
   "metadata": {},
   "outputs": [
    {
     "name": "stdout",
     "output_type": "stream",
     "text": [
      "[[-0.15  0.27 -0.04]\n",
      " [-0.24 -0.38  0.09]\n",
      " [-0.13  0.17 -0.07]\n",
      " [-0.18 -0.19 -0.45]\n",
      " [-0.22 -0.09  0.46]\n",
      " [-0.74  0.21 -0.21]\n",
      " [-0.18  0.3   0.28]\n",
      " [-0.18 -0.19 -0.45]\n",
      " [-0.36 -0.59  0.34]\n",
      " [-0.25  0.42  0.28]\n",
      " [-0.12  0.14 -0.23]]\n"
     ]
    }
   ],
   "source": [
    "print(U[:,:3])"
   ]
  },
  {
   "cell_type": "code",
   "execution_count": 35,
   "metadata": {},
   "outputs": [
    {
     "data": {
      "text/plain": [
       "array([3.91, 2.61, 2.  , 1.69, 1.55, 1.04, 0.59, 0.41, 0.27])"
      ]
     },
     "execution_count": 35,
     "metadata": {},
     "output_type": "execute_result"
    }
   ],
   "source": [
    "sigma"
   ]
  },
  {
   "cell_type": "code",
   "execution_count": 36,
   "metadata": {},
   "outputs": [
    {
     "data": {
      "text/plain": [
       "np.float64(32.99999999999999)"
      ]
     },
     "execution_count": 36,
     "metadata": {},
     "output_type": "execute_result"
    }
   ],
   "source": [
    "sig2 = sigma**2\n",
    "np.sum(sig2)\n"
   ]
  },
  {
   "cell_type": "code",
   "execution_count": 37,
   "metadata": {},
   "outputs": [
    {
     "data": {
      "text/plain": [
       "np.float64(0.8764977299308567)"
      ]
     },
     "execution_count": 37,
     "metadata": {},
     "output_type": "execute_result"
    }
   ],
   "source": [
    "np.sum(sig2[:4])/np.sum(sig2)"
   ]
  },
  {
   "cell_type": "code",
   "execution_count": 38,
   "metadata": {},
   "outputs": [],
   "source": [
    "import numpy as np\n",
    "\n",
    "X = np.array([[1,5,6],[4,3,9],[4,2,9], [4,2,2]])\n"
   ]
  },
  {
   "cell_type": "code",
   "execution_count": 39,
   "metadata": {},
   "outputs": [
    {
     "data": {
      "text/plain": [
       "array([[ 7.  ,  4.5 ,  4.  , -3.  ],\n",
       "       [ 4.5 , 10.33, 11.5 , -1.33],\n",
       "       [ 4.  , 11.5 , 13.  , -1.  ],\n",
       "       [-3.  , -1.33, -1.  ,  1.33]])"
      ]
     },
     "execution_count": 39,
     "metadata": {},
     "output_type": "execute_result"
    }
   ],
   "source": [
    "np.cov(X)"
   ]
  },
  {
   "cell_type": "code",
   "execution_count": 40,
   "metadata": {},
   "outputs": [
    {
     "data": {
      "text/plain": [
       "array([[ 0.41, -0.41,  0.82],\n",
       "       [ 1.  ,  0.  ,  0.  ],\n",
       "       [ 0.  ,  0.71, -0.71]])"
      ]
     },
     "execution_count": 40,
     "metadata": {},
     "output_type": "execute_result"
    }
   ],
   "source": [
    "from sklearn import preprocessing\n",
    "X=[[1.,-1,2],[2,0,0],[0,1,-1]]\n",
    "X_norm = preprocessing.normalize(X,norm='l2')\n",
    "X_norm"
   ]
  },
  {
   "cell_type": "code",
   "execution_count": 41,
   "metadata": {},
   "outputs": [
    {
     "data": {
      "text/plain": [
       "np.float64(1.0)"
      ]
     },
     "execution_count": 41,
     "metadata": {},
     "output_type": "execute_result"
    }
   ],
   "source": [
    "np.dot(X_norm[1],X_norm[1])"
   ]
  }
 ],
 "metadata": {
  "kernelspec": {
   "display_name": "MCM_2025",
   "language": "python",
   "name": "python3"
  },
  "language_info": {
   "codemirror_mode": {
    "name": "ipython",
    "version": 3
   },
   "file_extension": ".py",
   "mimetype": "text/x-python",
   "name": "python",
   "nbconvert_exporter": "python",
   "pygments_lexer": "ipython3",
   "version": "3.12.8"
  }
 },
 "nbformat": 4,
 "nbformat_minor": 2
}
